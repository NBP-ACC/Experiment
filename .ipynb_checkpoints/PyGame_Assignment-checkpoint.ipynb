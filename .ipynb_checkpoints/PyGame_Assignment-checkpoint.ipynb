{
 "cells": [
  {
   "cell_type": "code",
   "execution_count": null,
   "metadata": {},
   "outputs": [],
   "source": [
    "import pygame\n",
    "import time\n",
    "import sys\n",
    "import csv\n",
    "import random\n",
    "from  parameter_list import *"
   ]
  },
  {
   "cell_type": "markdown",
   "metadata": {},
   "source": [
    "#### 1. Draw Stimuli and record response and RT of the subjects"
   ]
  },
  {
   "cell_type": "code",
   "execution_count": null,
   "metadata": {},
   "outputs": [],
   "source": [
    "def draw_stim(trialType):\n",
    "    \"\"\"\n",
    "    Function to draw the stimulus\n",
    "    green circle for trialType == 1\n",
    "    red circle for trialType == 0\n",
    "    The subject response is recorded by getting pygame.event.\n",
    "    The function counts down 3 seconds for the subject to respond from the\n",
    "    beginning of the stimulus presentation. If there is no response,\n",
    "    the function returns to the main loop. If the subject responds, the Function\n",
    "    returns the response and the time from stimulus presentation to time at\n",
    "    button press\n",
    "\n",
    "    parameters: trialType\n",
    "    returns: response and response time\n",
    "    \"\"\"\n",
    "    res = 0\n",
    "    RT = 0\n",
    "    countdown = 3\n",
    "    # set pygame timer to countdown\n",
    "    if trialType == 0:\n",
    "        SCREEN.fill(BG_COLOR)\n",
    "        pygame.draw.circle(SCREEN,NOGO_COLOR, [Cx, Cy], int(round(RADIUS)), 0)\n",
    "        pygame.display.flip()\n",
    "        #the stimulus is shown for 0.1s\n",
    "        time.sleep(0.15)\n",
    "        #start time from stimulus presentation\n",
    "        start = time.time()\n",
    "        SCREEN.fill(BG_COLOR)\n",
    "        pygame.display.flip()\n",
    "\n",
    "    else:\n",
    "        SCREEN.fill(BG_COLOR)\n",
    "        pygame.draw.circle(SCREEN,GO_COLOR, [Cx, Cy], int(round(RADIUS)), 0)\n",
    "        pygame.display.flip()\n",
    "        time.sleep(0.15)\n",
    "        start = time.time()\n",
    "        SCREEN.fill(BG_COLOR)\n",
    "        pygame.display.flip()\n",
    "\n",
    "    #start countdown to end of 3s or until a button is pressed\n",
    "    pygame.time.set_timer(pygame.USEREVENT,1000)\n",
    "    while not countdown <= 0 or res != 1:\n",
    "        for event in pygame.event.get():\n",
    "            if event.type == pygame.QUIT:\n",
    "                pygame.quit()\n",
    "                sys.exit()\n",
    "            if event.type == pygame.USEREVENT:\n",
    "                countdown -= 1\n",
    "            if event.type == pygame.KEYDOWN:\n",
    "                if event.key == pygame.K_SPACE:\n",
    "                    # TODO\n",
    "                    # What should happen when the space key is pressed?\n",
    "        #clear the event buffer so multiple button presses are ignored\n",
    "        pygame.event.clear()\n",
    "\n",
    "        return (RT, res)"
   ]
  },
  {
   "cell_type": "markdown",
   "metadata": {},
   "source": [
    "#### 2. Message to be displayed and Key handeling"
   ]
  },
  {
   "cell_type": "code",
   "execution_count": null,
   "metadata": {},
   "outputs": [],
   "source": [
    "def message_display(text):\n",
    "    \"\"\"\n",
    "    Function to display a given message in the middle of the SCREEN\n",
    "    handles the button press of the user to go to the main loop\n",
    "\n",
    "    parameters: text to be shown\n",
    "    Returns: 1 when button is pressed\n",
    "    \"\"\"\n",
    "    f = pygame.font.SysFont('',FONTSIZE,False, False)\n",
    "    SCREEN.fill(BG_COLOR)\n",
    "    line = f.render(text,True, WHITE,BG_COLOR)\n",
    "    textrect = line.get_rect()\n",
    "    textrect.centerx = SCREEN.get_rect().centerx\n",
    "    textrect.centery = SCREEN.get_rect().centery\n",
    "    SCREEN.blit(line, textrect)\n",
    "    pygame.display.flip()\n",
    "    #wait for button press from the user\n",
    "    buttonpress=0\n",
    "    while buttonpress == 0:\n",
    "        for event in pygame.event.get():\n",
    "            if event.type == pygame.QUIT:\n",
    "                pygame.quit()\n",
    "                sys.exit()\n",
    "            if event.type == pygame.KEYDOWN and event.key == pygame.K_c:\n",
    "                buttonpress = 1\n",
    "            if event.type == pygame.KEYDOWN and event.key == pygame.K_ESCAPE:\n",
    "                pygame.display.set_mode(SCREENSIZE)\n",
    "\n",
    "    if buttonpress == 1:\n",
    "        return 1"
   ]
  },
  {
   "cell_type": "markdown",
   "metadata": {},
   "source": [
    "#### 3. Draw fixation cross"
   ]
  },
  {
   "cell_type": "code",
   "execution_count": null,
   "metadata": {},
   "outputs": [],
   "source": [
    "def draw_fixation():\n",
    "    \"\"\"\n",
    "    Function to draw fixation cross based on the parameters listed in\n",
    "    parameter_list\n",
    "    \"\"\"\n",
    "    SCREEN.fill(BG_COLOR)\n",
    "    pygame.draw.line(SCREEN,WHITE, VLINE[0], VLINE[1],VLINE[2])\n",
    "    pygame.draw.line(SCREEN,WHITE, HLINE[0], HLINE[1],HLINE[2])\n",
    "    pygame.display.flip()\n",
    "    return 1"
   ]
  },
  {
   "cell_type": "markdown",
   "metadata": {},
   "source": [
    "#### 4. Save RT and response Data as csv to create Dataframe"
   ]
  },
  {
   "cell_type": "code",
   "execution_count": null,
   "metadata": {},
   "outputs": [],
   "source": [
    "def writeData(datalist, subID):\n",
    "    \"\"\"\n",
    "    Function to write the list of responses to a csv dataFile\n",
    "    \"\"\"\n",
    "\n",
    "    fpath = DATAPATH + '/Sub' + str(subID) + '.csv'\n",
    "    with open(fpath, 'w') as csvfile:\n",
    "        fd = csv.writer(csvfile,dialect = 'excel')\n",
    "        header = ['SubjectID','StimulusType','response','RT']\n",
    "        fd.writerow(header)\n",
    "        for l in datalist:\n",
    "            fd.writerow(l)"
   ]
  },
  {
   "cell_type": "markdown",
   "metadata": {},
   "source": [
    "### Main experiment Loop"
   ]
  },
  {
   "cell_type": "code",
   "execution_count": null,
   "metadata": {},
   "outputs": [],
   "source": [
    "def experiment(subID):\n",
    "    #List where all the repsonses are stores\n",
    "    dataFile = []\n",
    "    #round(random.uniform(1.75,2.75), 2)\n",
    "    pygame.mouse.set_visible(False)\n",
    "    stimuli_list = [1]*int(NUMTRIAL- NUMTRIAL*PCT_NOGO)\n",
    "    nogo_trials = [0]*int(NUMTRIAL*PCT_NOGO)\n",
    "    stimuli_list.extend(nogo_trials)\n",
    "    random.shuffle(stimuli_list)\n",
    "    #Flag to check when the experiment loop ends\n",
    "    done = False\n",
    "    while not done:\n",
    "        text = 'Only press SPACE when GREEN circle is shown. Press c to continue'\n",
    "        code = message_display(text)\n",
    "        if code == 1:\n",
    "            for stim in stimuli_list:\n",
    "                draw_fixation()\n",
    "                time.sleep(0.5)\n",
    "                #clear event buffer so they are not misunderstood as responses\n",
    "                pygame.event.clear(pygame.KEYDOWN)\n",
    "                #show stimulus and get RT and response\n",
    "                RT, res = draw_stim(stim)\n",
    "                #append the data to the datafile\n",
    "                dataFile.append([subID, stim, res, RT])\n",
    "                time.sleep(TRIALINTERVAL)\n",
    "\n",
    "            # when all stimulus is shown, experiment is done\n",
    "            done = True\n",
    "            # check for events\n",
    "            for event in pygame.event.get():\n",
    "                if event.type == pygame.KEYDOWN and event.key == pygame.K_ESCAPE:\n",
    "                    pygame.display.set_mode(SCREENSIZE)\n",
    "\n",
    "    return dataFile"
   ]
  },
  {
   "cell_type": "markdown",
   "metadata": {},
   "source": [
    "#### Give information about the subject and start experiment"
   ]
  },
  {
   "cell_type": "code",
   "execution_count": null,
   "metadata": {},
   "outputs": [],
   "source": [
    "if __name__ == \"__main__\":\n",
    "    #Fill this before start of the experiment\n",
    "    subID = # ID of the subject\n",
    "    dataFile = experiment(subID)\n",
    "    print('writing in data file')\n",
    "    writeData(dataFile, subID)\n",
    "    pygame.quit()\n",
    "    quit()"
   ]
  }
 ],
 "metadata": {
  "kernelspec": {
   "display_name": "Python 3",
   "language": "python",
   "name": "python3"
  },
  "language_info": {
   "codemirror_mode": {
    "name": "ipython",
    "version": 3
   },
   "file_extension": ".py",
   "mimetype": "text/x-python",
   "name": "python",
   "nbconvert_exporter": "python",
   "pygments_lexer": "ipython3",
   "version": "3.7.2"
  }
 },
 "nbformat": 4,
 "nbformat_minor": 2
}
